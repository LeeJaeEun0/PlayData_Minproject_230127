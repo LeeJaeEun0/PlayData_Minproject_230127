{
 "cells": [
  {
   "cell_type": "code",
   "execution_count": 1,
   "id": "ad8ad4ba",
   "metadata": {},
   "outputs": [],
   "source": [
    "import tensorflow as tf\n",
    "from tensorflow import keras\n",
    "from keras.applications.mobilenet_v2 import preprocess_input\n",
    "from keras.models import load_model\n",
    "import numpy as np\n",
    "import cv2\n",
    "import matplotlib.pyplot as plt\n",
    "import os"
   ]
  },
  {
   "cell_type": "code",
   "execution_count": null,
   "id": "9bc67458",
   "metadata": {},
   "outputs": [],
   "source": [
    "cap = cv2.VideoCapture(0) # 비디오 캡처 객체를 생성(캠을 위해 필수)\n",
    "\n",
    "if cap.isOpened(): # 객체 초기화 확인 - 장치와 잘 연결되었는지 확인\n",
    "    while True:\n",
    "        fps = cap.get(cv2.CAP_PROP_FPS) # 프레임 수 구하기\n",
    "        delay = int(1000/fps)\n",
    "        print(\"FPS: %f, Delay %dms\", %(fps, delay))\n",
    "        \n",
    "        ret, frame = cap.read()\n",
    "        \n",
    "        if ret:\n",
    "            cv2.imshow('cemrea', img)\n",
    "            if cv2.waitKey(1) != -1: # if문에서 조건 설정\n",
    "                break\n",
    "        else:\n",
    "            print('no frame!')\n",
    "\n",
    "else:\n",
    "    # 캠을 켤 수 없다는 안내\n",
    "    print(\"can't open camera!\")\n",
    "\n",
    "cap.release() # 캡처 자원 반납\n",
    "cv2.destroyAllWindows() # 창 닫기"
   ]
  }
 ],
 "metadata": {
  "kernelspec": {
   "display_name": "Python 3 (ipykernel)",
   "language": "python",
   "name": "python3"
  },
  "language_info": {
   "codemirror_mode": {
    "name": "ipython",
    "version": 3
   },
   "file_extension": ".py",
   "mimetype": "text/x-python",
   "name": "python",
   "nbconvert_exporter": "python",
   "pygments_lexer": "ipython3",
   "version": "3.9.13"
  }
 },
 "nbformat": 4,
 "nbformat_minor": 5
}
